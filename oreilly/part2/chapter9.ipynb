{
 "cells": [
  {
   "cell_type": "markdown",
   "metadata": {},
   "source": [
    "# Comparisons, Masks, and Boolean Logic\n",
    "\n",
    "Boolean masks are used to examine and manipulate vaues inside of Numpy arrays, using some logic/criterion.\n",
    "\n",
    "*Ex. counting all values greater than a certain value*"
   ]
  },
  {
   "cell_type": "markdown",
   "metadata": {},
   "source": [
    "## Comparison Operators as Ufuncs\n",
    "\n",
    "Boolean operators will perform element wise comparisons."
   ]
  },
  {
   "cell_type": "code",
   "execution_count": null,
   "metadata": {},
   "outputs": [],
   "source": [
    "import numpy as np\n",
    "import pandas as pd\n",
    "\n",
    "x = np.arange(1, 6)\n",
    "\n",
    "print(x)\n",
    "print(x < 3)"
   ]
  },
  {
   "cell_type": "markdown",
   "metadata": {},
   "source": [
    "Masks are really just boolean arrays."
   ]
  },
  {
   "cell_type": "markdown",
   "metadata": {},
   "source": [
    "### Counting entries"
   ]
  },
  {
   "cell_type": "code",
   "execution_count": null,
   "metadata": {},
   "outputs": [],
   "source": [
    "x = np.arange(16).reshape(4,4)\n",
    "\n",
    "print(np.sum(x < 6)) # True = 1, False = 0\n",
    "print(np.any(x > 9))\n",
    "print(np.all(x< 20))"
   ]
  },
  {
   "cell_type": "code",
   "execution_count": null,
   "metadata": {},
   "outputs": [],
   "source": [
    "# Learn more about pandas later\n",
    "df = pd.read_csv('./data/seattle_weather.csv', usecols=['date', 'precipitation'])\n",
    "df['date'] = pd.to_datetime(df['date'])\n",
    "mask = (df['date'] >= '2015-01-01') & (df['date'] < '2016-01-01')\n",
    "df = df.loc[mask]\n",
    "\n"
   ]
  },
  {
   "cell_type": "markdown",
   "metadata": {},
   "source": [
    "## Python quirks\n",
    "\n",
    "There is a difference between the Python `and`/`or` operators and the `&`/`|` operators.\n",
    "\n",
    "The word operators act at a \"higher level\" and compares the *Python objects*. The `&`/`|` operators are originally bitwise operators, but with numpy, they become **element-wise operators.**"
   ]
  },
  {
   "cell_type": "code",
   "execution_count": null,
   "metadata": {},
   "outputs": [],
   "source": [
    "A = np.array([1,0,1,0,1,0], dtype=bool)\n",
    "B = np.array([1,1,1,0,1,1], dtype=bool)\n",
    "\n",
    "print(A | B)"
   ]
  }
 ],
 "metadata": {
  "kernelspec": {
   "display_name": "ml",
   "language": "python",
   "name": "python3"
  },
  "language_info": {
   "codemirror_mode": {
    "name": "ipython",
    "version": 3
   },
   "file_extension": ".py",
   "mimetype": "text/x-python",
   "name": "python",
   "nbconvert_exporter": "python",
   "pygments_lexer": "ipython3",
   "version": "3.13.1"
  }
 },
 "nbformat": 4,
 "nbformat_minor": 2
}
