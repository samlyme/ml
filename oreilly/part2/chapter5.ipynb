{
 "cells": [
  {
   "cell_type": "markdown",
   "metadata": {},
   "source": [
    "# The Basics of NumPy Arrays\n",
    "\n",
    "Remember, Python arrays are atrociously slow (learn more in chapter 4), so any numerically intensive computations are recommended to be done with NumPy arrays."
   ]
  },
  {
   "cell_type": "markdown",
   "metadata": {},
   "source": [
    "## Numpy Array Attributes\n",
    "\n",
    "The most usefull np array attributes are \n",
    "1. `ndim`: number of dimensions\n",
    "2. `shape`: a tuple of the shape\n",
    "3. `size`: total number of entries\n",
    "4. `dtype`: the type of data inside"
   ]
  },
  {
   "cell_type": "code",
   "execution_count": null,
   "metadata": {},
   "outputs": [],
   "source": [
    "import numpy as np\n",
    "\n",
    "rng = np.random.default_rng(seed=1701)\n",
    "\n",
    "x = rng.integers(9, size=(3, 4, 5))\n",
    "\n",
    "print(\"x3 ndim: \", x.ndim) \n",
    "print(\"x3 shape:\", x.shape) \n",
    "print(\"x3 size: \", x.size) \n",
    "print(\"dtype: \", x.dtype)"
   ]
  },
  {
   "cell_type": "markdown",
   "metadata": {},
   "source": [
    "## Accessing Elements\n",
    "\n",
    "The same syntax as regular Python lists can be used for np arrayds. "
   ]
  },
  {
   "cell_type": "code",
   "execution_count": null,
   "metadata": {},
   "outputs": [],
   "source": [
    "x1 = np.array([i for i in range(16)])\n",
    "\n",
    "print(x1)\n",
    "print(x1[3])\n",
    "print(x1[2:10:2]) # [start:stop:step]"
   ]
  },
  {
   "cell_type": "markdown",
   "metadata": {},
   "source": [
    "## Views\n",
    "\n",
    "Array slicing returns a view of the original array, not a copy. \n",
    "\n",
    "Mutating the slice will mutate the original."
   ]
  },
  {
   "cell_type": "code",
   "execution_count": null,
   "metadata": {},
   "outputs": [],
   "source": [
    "x1 = np.array([i for i in range(16)])\n",
    "\n",
    "x2 = x1[2:10:2]\n",
    "\n",
    "print('x1: ', x1)\n",
    "print('x2: ', x2)\n",
    "\n",
    "print('Mutate view')\n",
    "x2[1] = 99\n",
    "print('x1: ', x1)\n",
    "print('x2: ', x2)"
   ]
  }
 ],
 "metadata": {
  "kernelspec": {
   "display_name": "ml",
   "language": "python",
   "name": "python3"
  },
  "language_info": {
   "codemirror_mode": {
    "name": "ipython",
    "version": 3
   },
   "file_extension": ".py",
   "mimetype": "text/x-python",
   "name": "python",
   "nbconvert_exporter": "python",
   "pygments_lexer": "ipython3",
   "version": "3.13.1"
  }
 },
 "nbformat": 4,
 "nbformat_minor": 2
}
