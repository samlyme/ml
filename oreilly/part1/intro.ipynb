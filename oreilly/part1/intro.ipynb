{
 "cells": [
  {
   "cell_type": "markdown",
   "metadata": {},
   "source": [
    "# IPython Shell\n",
    "\n",
    "We will use IPython and Jupyter Notebooks bc its good. "
   ]
  },
  {
   "cell_type": "code",
   "execution_count": null,
   "metadata": {},
   "outputs": [],
   "source": [
    "print('hello world')"
   ]
  },
  {
   "cell_type": "markdown",
   "metadata": {},
   "source": [
    "## IPython Shell\n",
    "\n",
    "In the IPython shell, adding a `?` after a function will bring you too the documentation. Similarly, `??` will bring you to the actual source code. Tab completion is also supported.\n",
    "\n",
    "```python\n",
    "In  [6]: def square(a):\n",
    " ....: \"\"\"Return the square of a.\"\"\" ....: return a ** 2\n",
    " ....:\n",
    "In [7]: square?\n",
    " Signature: square(a) \n",
    " Docstring: Return the square of a. \n",
    " File: <ipython-input-6> Type: function\n",
    "```"
   ]
  },
  {
   "cell_type": "markdown",
   "metadata": {},
   "source": [
    "## Magic Commands\n",
    "\n",
    "Magic commands are accessed with the `%` symbol. \n",
    "\n",
    "```python\n",
    "In [3]: %timeit L = [n ** 2 for n in range(1000)] \n",
    "430 μs ± 3.21 μs per loop (mean ± std. dev. of 7 runs, 1000 loops each)\n",
    "```"
   ]
  },
  {
   "cell_type": "markdown",
   "metadata": {},
   "source": [
    "## Input and Output History\n",
    "\n",
    "IPython's entire history is stored in the `In` and `Out` lists that you can access.\n",
    "\n",
    "You can directly access previous inputs and outputs, or use the `_` symbol to access the previous output. `__` gives you the output from before that, and `___` the one before that. The limit is 3."
   ]
  }
 ],
 "metadata": {
  "kernelspec": {
   "display_name": "ml",
   "language": "python",
   "name": "python3"
  },
  "language_info": {
   "codemirror_mode": {
    "name": "ipython",
    "version": 3
   },
   "file_extension": ".py",
   "mimetype": "text/x-python",
   "name": "python",
   "nbconvert_exporter": "python",
   "pygments_lexer": "ipython3",
   "version": "3.13.1"
  }
 },
 "nbformat": 4,
 "nbformat_minor": 2
}
