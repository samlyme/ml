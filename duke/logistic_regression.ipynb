{
 "cells": [
  {
   "cell_type": "markdown",
   "metadata": {},
   "source": [
    "# Basic Logistic Regression in Pytorch"
   ]
  },
  {
   "cell_type": "code",
   "execution_count": 37,
   "metadata": {},
   "outputs": [],
   "source": [
    "%matplotlib inline\n",
    "\n",
    "import numpy as np\n",
    "import matplotlib.pyplot as plt\n",
    "from tqdm.notebook import tqdm\n",
    "\n",
    "import torch\n"
   ]
  },
  {
   "cell_type": "markdown",
   "metadata": {},
   "source": [
    "## Import data"
   ]
  },
  {
   "cell_type": "code",
   "execution_count": 38,
   "metadata": {},
   "outputs": [
    {
     "name": "stdout",
     "output_type": "stream",
     "text": [
      "No. of MNIST training examples: 60000\n",
      "No. of MNIST test examples: 10000\n"
     ]
    }
   ],
   "source": [
    "from torchvision import datasets, transforms\n",
    "\n",
    "# Don't need to do type hints in prod\n",
    "mnist_train: torch.utils.data.Dataset = datasets.MNIST(root=\"./datasets\", \n",
    "                                                       train=True, \n",
    "                                                       transform=transforms.ToTensor(), \n",
    "                                                       download=True)\n",
    "\n",
    "mnist_test: torch.utils.data.Dataset = datasets.MNIST(root=\"./datasets\", \n",
    "                                                      train=False, \n",
    "                                                      transform=transforms.ToTensor(), \n",
    "                                                      download=True)\n",
    "\n",
    "print(f\"No. of MNIST training examples: {len(mnist_train)}\")\n",
    "print(f\"No. of MNIST test examples: {len(mnist_test)}\")"
   ]
  },
  {
   "cell_type": "markdown",
   "metadata": {},
   "source": [
    "## Plotting and manipulating the data"
   ]
  },
  {
   "cell_type": "code",
   "execution_count": 39,
   "metadata": {},
   "outputs": [
    {
     "name": "stdout",
     "output_type": "stream",
     "text": [
      "Image shape: torch.Size([1, 28, 28]) This means that there is 1 channel, with 28x28 pixels\n",
      "Reshaped image: torch.Size([28, 28])\n",
      "Label: 1\n"
     ]
    },
    {
     "data": {
      "image/png": "[encoded data removed]",
      "text/plain": [
       "<Figure size 640x480 with 1 Axes>"
      ]
     },
     "metadata": {},
     "output_type": "display_data"
    }
   ],
   "source": [
    "# Pick an arbitrary item from the training dataset\n",
    "image, label = mnist_train[3]\n",
    "\n",
    "# Plot the imagine\n",
    "print(f\"Image shape: {image.shape}\", \"This means that there is 1 channel, with 28x28 pixels\")\n",
    "\n",
    "image = image.reshape((28, 28))\n",
    "print(f\"Reshaped image: {image.shape}\")\n",
    "\n",
    "print(f\"Label: {label}\")\n",
    "\n",
    "plt.imshow(image, cmap=\"gray\")\n",
    "plt.show()"
   ]
  },
  {
   "cell_type": "markdown",
   "metadata": {},
   "source": [
    "## Using the dataloader"
   ]
  },
  {
   "cell_type": "code",
   "execution_count": 40,
   "metadata": {},
   "outputs": [
    {
     "name": "stdout",
     "output_type": "stream",
     "text": [
      "Images shape: torch.Size([100, 1, 28, 28])\n",
      "Labels shape: torch.Size([100])\n",
      "Image type: <class 'torch.Tensor'>\n",
      "Label type: <class 'torch.Tensor'>\n"
     ]
    },
    {
     "data": {
      "image/png": "[encoded data removed]",
      "text/plain": [
       "<Figure size 640x480 with 1 Axes>"
      ]
     },
     "metadata": {},
     "output_type": "display_data"
    }
   ],
   "source": [
    "train_loader = torch.utils.data.DataLoader(mnist_train, \n",
    "                                           batch_size=100, \n",
    "                                           shuffle=True)\n",
    "test_loader = torch.utils.data.DataLoader(mnist_test, \n",
    "                                          batch_size=100, \n",
    "                                          shuffle=False)\n",
    "# print(type(train_loader))\n",
    "\n",
    "# Get the first batch from the DataLoader\n",
    "images, labels = next(iter(train_loader))\n",
    "\n",
    "# Print shape and types\n",
    "print(f\"Images shape: {images.shape}\")  # (batch_size, channels, height, width)\n",
    "print(f\"Labels shape: {labels.shape}\")  # (batch_size,)\n",
    "print(f\"Image type: {type(images)}\")    # torch.Tensor\n",
    "print(f\"Label type: {type(labels)}\")    # torch.Tensor\n",
    "\n",
    "plt.imshow(images[0].squeeze(), cmap=\"gray\")  # Remove channel dim for visualization\n",
    "plt.title(f\"Label: {labels[0].item()}\")\n",
    "plt.show()"
   ]
  },
  {
   "cell_type": "markdown",
   "metadata": {},
   "source": [
    "## Inference"
   ]
  },
  {
   "cell_type": "code",
   "execution_count": 41,
   "metadata": {},
   "outputs": [
    {
     "name": "stdout",
     "output_type": "stream",
     "text": [
      "tensor([ 0.1489, -1.0728, -0.2871, -0.0339,  0.0227,  0.0877, -0.2929, -0.0876,\n",
      "         0.1734,  0.3395], grad_fn=<SliceBackward0>)\n",
      "tensor([0.1210, 0.0357, 0.0782, 0.1008, 0.1067, 0.1138, 0.0778, 0.0955, 0.1240,\n",
      "        0.1464], grad_fn=<SliceBackward0>)\n"
     ]
    }
   ],
   "source": [
    "input_size = 28 * 28\n",
    "classes = 10\n",
    "\n",
    "\n",
    "# Randomly initialize weights using \"Xavier initiallization\"\n",
    "# 2 line initialization because the \"/ np.sqrt\" makes it a non-leaf tensor\n",
    "W = torch.randn(input_size, classes) / np.sqrt(input_size)\n",
    "W.requires_grad_()\n",
    "b = torch.zeros(10, requires_grad=True)\n",
    "\n",
    "# flatten the input\n",
    "x = images.view(-1, input_size)\n",
    "\n",
    "# Inference\n",
    "y_prime = x @ W + b # torch.matmul\n",
    "print(y_prime[0, :])\n",
    "\n",
    "# Softmax dat bih\n",
    "import torch.nn.functional as F\n",
    "y_hat = F.softmax(y_prime, dim=1)\n",
    "print(y_hat[0, :])"
   ]
  },
  {
   "cell_type": "markdown",
   "metadata": {},
   "source": [
    "## Learning"
   ]
  },
  {
   "cell_type": "markdown",
   "metadata": {},
   "source": [
    "### Cross-entropy loss (aka minus log likelihood)\n",
    "\n",
    "We defined it as \"negative average log of the probability of the true label being yi given a prediction y_hat\""
   ]
  },
  {
   "cell_type": "code",
   "execution_count": 42,
   "metadata": {},
   "outputs": [
    {
     "name": "stdout",
     "output_type": "stream",
     "text": [
      "Cross entropy from equation: 2.298966646194458\n",
      "Cross entropy from library: 2.298966407775879\n"
     ]
    }
   ],
   "source": [
    "# This expects y_hat to already be softmaxed\n",
    "def cross_entropy(y_hat, y):\n",
    "    batch_size = y_hat.shape[0]\n",
    "    log_probs = -torch.log(y_hat[range(batch_size), y]) # some fancy indexing\n",
    "    return log_probs.mean()\n",
    "\n",
    "print(f\"Cross entropy from equation: {cross_entropy(y_hat, labels)}\")\n",
    "print(f\"Cross entropy from library: {F.cross_entropy(y_prime, labels)}\")"
   ]
  },
  {
   "cell_type": "markdown",
   "metadata": {},
   "source": [
    "### Back propagation"
   ]
  },
  {
   "cell_type": "code",
   "execution_count": 43,
   "metadata": {},
   "outputs": [
    {
     "name": "stdout",
     "output_type": "stream",
     "text": [
      "gradient for b:  tensor([-0.0075, -0.0478,  0.0186, -0.0292,  0.0100,  0.0132, -0.0536,  0.0876,\n",
      "         0.0485, -0.0398])\n",
      "new values for b:  tensor([ 0.0008,  0.0048, -0.0019,  0.0029, -0.0010, -0.0013,  0.0054, -0.0088,\n",
      "        -0.0049,  0.0040], requires_grad=True)\n"
     ]
    }
   ],
   "source": [
    "# Behind the scenes, all the computations for this loss are tracked by \n",
    "# torch's tensor computation graph, allowing for \"autograd\" features\n",
    "loss = cross_entropy(y_hat, labels)\n",
    "optimizer = torch.optim.SGD([W, b], lr=0.1)\n",
    "\n",
    "# Propagate the loss backwards through the computation graph\n",
    "loss.backward()\n",
    "print(\"gradient for b: \", b.grad)\n",
    "# Apply the gradient to \n",
    "optimizer.step()\n",
    "print(\"new values for b: \", b)\n",
    "optimizer.zero_grad() # clear the buffers for the numerical gradients"
   ]
  },
  {
   "cell_type": "markdown",
   "metadata": {},
   "source": [
    "## Iterative Training"
   ]
  },
  {
   "cell_type": "code",
   "execution_count": 44,
   "metadata": {},
   "outputs": [
    {
     "data": {
      "application/vnd.jupyter.widget-view+json": {
       "model_id": "18ad01acb09e47b19c0891bedffd8e46",
       "version_major": 2,
       "version_minor": 0
      },
      "text/plain": [
       "  0%|          | 0/600 [00:00<?, ?it/s]"
      ]
     },
     "metadata": {},
     "output_type": "display_data"
    }
   ],
   "source": [
    "for images, labels in tqdm(train_loader):\n",
    "    optimizer.zero_grad()\n",
    "    \n",
    "    x = images.view(-1, input_size)\n",
    "    y_hat = x @ W + b # compute raw logits\n",
    "\n",
    "    loss = F.cross_entropy(y_hat, labels)\n",
    "    \n",
    "    loss.backward()\n",
    "    optimizer.step()"
   ]
  },
  {
   "cell_type": "markdown",
   "metadata": {},
   "source": [
    "## Testing"
   ]
  },
  {
   "cell_type": "code",
   "execution_count": 45,
   "metadata": {},
   "outputs": [
    {
     "data": {
      "application/vnd.jupyter.widget-view+json": {
       "model_id": "69d23199a3264008bd9de77274da6cad",
       "version_major": 2,
       "version_minor": 0
      },
      "text/plain": [
       "  0%|          | 0/100 [00:00<?, ?it/s]"
      ]
     },
     "metadata": {},
     "output_type": "display_data"
    },
    {
     "name": "stdout",
     "output_type": "stream",
     "text": [
      "Test accuracy: 0.9006999731063843\n"
     ]
    }
   ],
   "source": [
    "correct = 0\n",
    "total = len(mnist_test) # type: ignore\n",
    "\n",
    "with torch.no_grad():\n",
    "    for images, labels in tqdm(test_loader):\n",
    "        x = images.view(-1, input_size)\n",
    "        y = x @ W + b\n",
    "        \n",
    "        y_pred = torch.argmax(y, dim=1)\n",
    "        correct += torch.sum((y_pred == labels).float())\n",
    "\n",
    "print(f\"Test accuracy: {correct/total}\")"
   ]
  },
  {
   "cell_type": "markdown",
   "metadata": {},
   "source": [
    "## Visualizing weights"
   ]
  },
  {
   "cell_type": "code",
   "execution_count": 49,
   "metadata": {},
   "outputs": [
    {
     "data": {
      "image/png": "[encoded data removed]",
      "text/plain": [
       "<Figure size 2000x200 with 10 Axes>"
      ]
     },
     "metadata": {},
     "output_type": "display_data"
    }
   ],
   "source": [
    "fig, ax = plt.subplots(1, 10, figsize=(20, 2))\n",
    "\n",
    "for digit in range(10):\n",
    "    ax[digit].imshow(W[:,digit].detach().view(28,28), cmap='gray')\n",
    "\n",
    "plt.show()"
   ]
  }
 ],
 "metadata": {
  "kernelspec": {
   "display_name": "ml",
   "language": "python",
   "name": "python3"
  },
  "language_info": {
   "codemirror_mode": {
    "name": "ipython",
    "version": 3
   },
   "file_extension": ".py",
   "mimetype": "text/x-python",
   "name": "python",
   "nbconvert_exporter": "python",
   "pygments_lexer": "ipython3",
   "version": "3.13.1"
  }
 },
 "nbformat": 4,
 "nbformat_minor": 2
}
