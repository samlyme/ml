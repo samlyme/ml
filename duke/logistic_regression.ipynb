{
 "cells": [
  {
   "cell_type": "markdown",
   "metadata": {},
   "source": [
    "# Basic Logistic Regression in Pytorch"
   ]
  },
  {
   "cell_type": "code",
   "execution_count": 1,
   "metadata": {},
   "outputs": [],
   "source": [
    "%matplotlib inline\n",
    "\n",
    "import numpy as np\n",
    "import matplotlib.pyplot as plt\n",
    "from tqdm.notebook import tqdm\n",
    "\n",
    "import torch\n"
   ]
  },
  {
   "cell_type": "markdown",
   "metadata": {},
   "source": [
    "## Import data"
   ]
  },
  {
   "cell_type": "code",
   "execution_count": 2,
   "metadata": {},
   "outputs": [
    {
     "name": "stdout",
     "output_type": "stream",
     "text": [
      "No. of MNIST training examples: 60000\n",
      "No. of MNIST test examples: 10000\n"
     ]
    }
   ],
   "source": [
    "from torchvision import datasets, transforms\n",
    "\n",
    "# Don't need to do type hints in prod\n",
    "mnist_train: torch.utils.data.Dataset = datasets.MNIST(root=\"./datasets\", \n",
    "                                                       train=True, \n",
    "                                                       transform=transforms.ToTensor(), \n",
    "                                                       download=True)\n",
    "\n",
    "mnist_test: torch.utils.data.Dataset = datasets.MNIST(root=\"./datasets\", \n",
    "                                                      train=False, \n",
    "                                                      transform=transforms.ToTensor(), \n",
    "                                                      download=True)\n",
    "\n",
    "print(f\"No. of MNIST training examples: {len(mnist_train)}\")\n",
    "print(f\"No. of MNIST test examples: {len(mnist_test)}\")"
   ]
  },
  {
   "cell_type": "markdown",
   "metadata": {},
   "source": [
    "## Plotting and manipulating the data"
   ]
  },
  {
   "cell_type": "code",
   "execution_count": 5,
   "metadata": {},
   "outputs": [
    {
     "name": "stdout",
     "output_type": "stream",
     "text": [
      "Image shape: torch.Size([1, 28, 28]) This means that there is 1 channel, with 28x28 pixels\n",
      "Reshaped image: torch.Size([28, 28])\n",
      "Label: 1\n"
     ]
    },
    {
     "data": {
      "image/png": "[encoded data removed]",
      "text/plain": [
       "<Figure size 640x480 with 1 Axes>"
      ]
     },
     "metadata": {},
     "output_type": "display_data"
    }
   ],
   "source": [
    "# Pick an arbitrary item from the training dataset\n",
    "image, label = mnist_train[3]\n",
    "\n",
    "# Plot the imagine\n",
    "print(f\"Image shape: {image.shape}\", \"This means that there is 1 channel, with 28x28 pixels\")\n",
    "\n",
    "image = image.reshape((28, 28))\n",
    "print(f\"Reshaped image: {image.shape}\")\n",
    "\n",
    "print(f\"Label: {label}\")\n",
    "\n",
    "plt.imshow(image, cmap=\"gray\")\n",
    "plt.show()"
   ]
  },
  {
   "cell_type": "markdown",
   "metadata": {},
   "source": [
    "## Using the dataloader"
   ]
  },
  {
   "cell_type": "code",
   "execution_count": null,
   "metadata": {},
   "outputs": [
    {
     "name": "stdout",
     "output_type": "stream",
     "text": [
      "Images shape: torch.Size([100, 1, 28, 28])\n",
      "Labels shape: torch.Size([100])\n",
      "Image type: <class 'torch.Tensor'>\n",
      "Label type: <class 'torch.Tensor'>\n"
     ]
    },
    {
     "data": {
      "image/png": "[encoded data removed]",
      "text/plain": [
       "<Figure size 640x480 with 1 Axes>"
      ]
     },
     "metadata": {},
     "output_type": "display_data"
    }
   ],
   "source": [
    "train_loader = torch.utils.data.DataLoader(mnist_train, \n",
    "                                           batch_size=100, \n",
    "                                           shuffle=True)\n",
    "test_loader = torch.utils.data.DataLoader(mnist_test, \n",
    "                                          batch_size=100, \n",
    "                                          shuffle=False)\n",
    "# print(type(train_loader))\n",
    "\n",
    "# Get the first batch from the DataLoader\n",
    "images, labels = next(iter(train_loader))\n",
    "\n",
    "# Print shape and types\n",
    "print(f\"Images shape: {images.shape}\")  # (batch_size, channels, height, width)\n",
    "print(f\"Labels shape: {labels.shape}\")  # (batch_size,)\n",
    "print(f\"Image type: {type(images)}\")    # torch.Tensor\n",
    "print(f\"Label type: {type(labels)}\")    # torch.Tensor\n",
    "\n",
    "plt.imshow(images[0].squeeze(), cmap=\"gray\")  # Remove channel dim for visualization\n",
    "plt.title(f\"Label: {labels[0].item()}\")\n",
    "plt.show()"
   ]
  }
 ],
 "metadata": {
  "kernelspec": {
   "display_name": "ml",
   "language": "python",
   "name": "python3"
  },
  "language_info": {
   "codemirror_mode": {
    "name": "ipython",
    "version": 3
   },
   "file_extension": ".py",
   "mimetype": "text/x-python",
   "name": "python",
   "nbconvert_exporter": "python",
   "pygments_lexer": "ipython3",
   "version": "3.13.1"
  }
 },
 "nbformat": 4,
 "nbformat_minor": 2
}
